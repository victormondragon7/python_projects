{
 "cells": [
  {
   "cell_type": "markdown",
   "metadata": {},
   "source": [
    "# Project: A* Pathfinding visualization"
   ]
  },
  {
   "cell_type": "markdown",
   "metadata": {},
   "source": [
    "This project develops the implementation of the 'A* algorithm' (commonly used in pathfinding problems) and the visualization on how the algorithm progressively gets to the right solution into a dynamic grid.\n",
    "Our objective is to find the shortest possible path between two points located anywhere on a grid, given certain 'barriers' imposed in it that would not allow for a path to cross it directly. The path how ever can suround it.\n",
    "\n",
    "- Overview of the A* algorithm\n",
    "\n",
    "First lets define nodes and edges: For our purposes and thinking in a stochastic process,we can simply say that nodes are states that we are able to visit and edges are the connections amongst nodes that allow us to move around them. \n",
    "Through this deffinition, one can easily assume that we cannot 'visit' or stay in a edge, we can only do that on nodes. \n",
    "In the case of a grid, we will consider nodes as each square inside of it and the edges will be the invisible paths amongst each square.\n",
    "\n",
    "Is important to say that this is an 'informed search' algorithm, which means it will not test each possible path to arrive from the defined point A to the defined point B, it will only be doing the necessary trials to be improving \n",
    "its current proposed path along the way.\n",
    "\n",
    "- Requierements for the algorithm\n",
    "\n",
    "1. We start by defining the start node (A).\n",
    "2. We also define the end node (Z).\n",
    "3. We define the function that we will use to measure absolute distances in points: This function will not take into account the barriers, it will simply take into account the distance amongst the current node and the end node. \n",
    "Usually it is used the euclidean distance or manhattan distance as functions. We will call this function 'H(n)': The approximate absolute distance from node n to the end node (Z).\n",
    "4. We define the following function 'G(n)': The shortest distance (available, taking into account the grid and the barriers) of the current node n to the start node (A)\n",
    "5. We define the scoring function of the node as 'F(n) = H(n) + G(n)'\n",
    "\n",
    "- Development of the algorithm\n",
    "\n",
    "1. Generate a DataFrame (FX) which contains as rows all possible nodes for the problem and as columns: F|G|H|Last (where Last is the name of the node where the current node comes from).\n",
    "2. Fill FX rows on default values as follows: columns F|G|H for the start node (A) = 0. columns F|G|H for any other node = inf\n",
    "3. Position into node n = 0 (A)\n",
    "Identify all possible neighbours of node n \n",
    "Position into one of the neighbours of node n = 0\n",
    "How long is this node from the initial node given that one must pass on the path from the previous node ? (on the grid each edge always has a value of 1)\n",
    "Is this length from node n (1) shorter than the current G score of the current node (the neighbour selected)?\n",
    "<br/>\n",
    "If yes: \n",
    "    3.1 replace G score of the current node (neighbour selected) for the edge length (on the grid always 1) THIS MEANS THAT THE BEST PATH WE KNOW (CURRENTLY) TO GET TO CURRENT NODE (NEIGHBOUR SELECTED) IS PATH NODE N = 0 (A) -> CURRENT NODE\n",
    "    3.2 replace H score of the current node (neighbour selected) by using the H function (manhattan or euclidean) and computing the distance to end node (Z)\n",
    "    3.3 Update F  = G + H\n",
    "    3.4 In 'Last' column, write the name of the node where it comes from (in this case is node n = 0 (A))\n",
    "If no:\n",
    "Pass to the following neighbour to evaluate\n",
    "<br/>\n",
    "<br/>\n",
    "4. Once all nodes evaluated, look for the minimum F score\n",
    "5. Track back all the path that got us into that F score\n",
    "6. This is the optimum path !\n",
    "\n",
    "Note we have not yet introduced the barriers problem, which will be considered later on."
   ]
  },
  {
   "cell_type": "code",
   "execution_count": 13,
   "metadata": {},
   "outputs": [
    {
     "ename": "SyntaxError",
     "evalue": "invalid syntax (<ipython-input-13-51ade3fed2f4>, line 2)",
     "output_type": "error",
     "traceback": [
      "\u001b[1;36m  File \u001b[1;32m\"<ipython-input-13-51ade3fed2f4>\"\u001b[1;36m, line \u001b[1;32m2\u001b[0m\n\u001b[1;33m    pip install pygame\u001b[0m\n\u001b[1;37m              ^\u001b[0m\n\u001b[1;31mSyntaxError\u001b[0m\u001b[1;31m:\u001b[0m invalid syntax\n"
     ]
    }
   ],
   "source": [
    "#You need to install pygame to do the visualization\n",
    "pip install pygame"
   ]
  },
  {
   "cell_type": "code",
   "execution_count": 1,
   "metadata": {},
   "outputs": [
    {
     "name": "stdout",
     "output_type": "stream",
     "text": [
      "pygame 1.9.6\n",
      "Hello from the pygame community. https://www.pygame.org/contribute.html\n"
     ]
    }
   ],
   "source": [
    "import pygame\n",
    "import math\n",
    "from queue import PriorityQueue\n"
   ]
  },
  {
   "cell_type": "code",
   "execution_count": 2,
   "metadata": {},
   "outputs": [],
   "source": [
    "WIDTH = 800\n",
    "WIN = pygame.display.set_mode((WIDTH,WIDTH)) #We are setting here a 800x800 width display.\n",
    "pygame.display.set_caption(\"A* Path Finding Algorithm\")\n",
    "#Introduce Color Codes will help you give a more visual aspect on the visual implementation\n",
    "\n",
    "RED = (255,0,0) #This will be the color of rejects; this means that the square has already been evaluated and is not a good fit for the optimal solution.\n",
    "GREEN = (0,255,0)\n",
    "\n",
    "\n",
    "BLUE = (0,255,0)\n",
    "YELLOW = (255,255,0)\n",
    "WHITE = (255,255,255) #This will be the defaulted value of the node; this means that that square has not yet been evaluated.\n",
    "BLACK  = (0,0,0) #This will be the color of the barrier; this means that the node cannot be evaluated.\n",
    "PURPLE = (128,0,128) #This will be the color of the path; this means that the node has been evaluated and up to this point is considered as part of the optimal path.\n",
    "ORANGE = (255,165,0) #This will be the start node color; only one node can have this color.\n",
    "GREY = (128,128,128)\n",
    "TURQUOISE = (64,224,208)"
   ]
  },
  {
   "cell_type": "code",
   "execution_count": 3,
   "metadata": {},
   "outputs": [],
   "source": [
    "#We need to keep track of the characteristics of each node we will be testing each iteration of the algorithm, so it is useful to define a class of those nodes.\n",
    "#It should have the following characteristics\n",
    "#Color, Position, Neighbours, Width\n",
    "\n",
    "class Spot:\n",
    "    def __init__(self, row, col, width, total_rows): #This can be interpreted as a constructor function if you know C++ class deffinitions.\n",
    "        self.row = row\n",
    "        self.col = col\n",
    "        self.x = row*width #Coordinate x in the grid, given that 'width' = WIDTH/N where N is the number of cubes you wish to have inside the grid.\n",
    "        self.y = col*width #Coordinate y in the grid \"\"\n",
    "        self.color = WHITE #Defaulted value should be white\n",
    "        self.neighbours = [] #As defaule we use a blank list\n",
    "        self.width = width\n",
    "        self.total_rows = total_rows\n",
    "\n",
    "#After developing the constructor, we will now build some methods for the 'Spot' objects:\n",
    "    def get_pos(self): #You will be getting the coordinates of the node.\n",
    "        return self.row, self.col\n",
    "    def is_closed(self): #This is a boolean that will show TRUE when the current node has already been discarded\n",
    "        return self.color == RED\n",
    "    def is_barrier(self): #This is a boolean that will show TRUE when the current node is a barrier\n",
    "        return self.color == BLACK\n",
    "    def is_start(self): #This is a boolean that will show TRUE when the current node is the star node\n",
    "        return self.color == ORANGE\n",
    "    def is_end(self): #This is a boolean that will show TRUE when the current node is the end node\n",
    "        return self.color == TURQUOISE\n",
    "\n",
    "#We then create methods that can actually modify the current color stated of the node with the same definitions from above\n",
    "    def reset(self): \n",
    "        self.color = WHITE\n",
    "    def make_closed(self): \n",
    "        self.color = RED\n",
    "    def make_open(self): \n",
    "        self.color = GREEN\n",
    "    def make_barrier(self): \n",
    "        self.color = BLACK\n",
    "    def make_start(self): \n",
    "        self.color = ORANGE\n",
    "    def make_end(self): \n",
    "        self.color = TURQUOISE\n",
    "    def make_path(self): \n",
    "        self.color = PURPLE\n",
    "    def draw(self, win): #This method is the one that actually draws the cube with its (current) properties on the grid, where you have to make reference to the window or 'canvas' you created earlier\n",
    "        pygame.draw.rect(win,self.color,(self.x,self.y,self.width,self.width)) #Here, you must write in the first argument the window where you will draw (pre coded), the color of the node, and the coordinates (x,y) as well as the width of each coordinate. Passing the same width makes it a square\n",
    "    def update_neighbours(self,grid): #This function will update the available neighbours for the current node. Recall that barriers cannot be taken into account as neighbours to be evaluated. \n",
    "        self.neighbours = []\n",
    "        if self.row < self.total_rows - 1 and not grid[self.row + 1][self.col].is_barrier():#DOWN\n",
    "            self.neighbours.append(grid[self.row + 1][self.col])\n",
    "        if self.row > 0 and not grid[self.row - 1][self.col].is_barrier():#UP\n",
    "            self.neighbours.append(grid[self.row - 1][self.col])   \n",
    "        if self.col > 0 and not grid[self.row][self.col -1].is_barrier():#LEFT\n",
    "            self.neighbours.append(grid[self.row][self.col -1])\n",
    "        if self.col < self.total_rows -1 and not grid[self.row][self.col +1].is_barrier():#RIGHT\n",
    "            self.neighbours.append(grid[self.row][self.col +1])"
   ]
  },
  {
   "cell_type": "code",
   "execution_count": 4,
   "metadata": {},
   "outputs": [
    {
     "data": {
      "text/plain": [
       "(255, 165, 0)"
      ]
     },
     "execution_count": 4,
     "metadata": {},
     "output_type": "execute_result"
    }
   ],
   "source": [
    "object1 = Spot(3,4,10,100) #This exemplifies the creating of a node object.\n",
    "object1.make_start()\n",
    "object1.color"
   ]
  },
  {
   "cell_type": "code",
   "execution_count": 5,
   "metadata": {},
   "outputs": [
    {
     "data": {
      "text/plain": [
       "5"
      ]
     },
     "execution_count": 5,
     "metadata": {},
     "output_type": "execute_result"
    }
   ],
   "source": [
    "#Now that we have finished defining the class for the nodes, we must define the absolute distance function we previously mentioned. \n",
    "def h(p1,p2): #We will use the manhattan distance formula, but it can be modified\n",
    "    x1,y1 = p1\n",
    "    x2,y2 = p2\n",
    "    return abs(x1-x2) + abs (y1-y2)\n",
    "h((1,1),(2,5))"
   ]
  },
  {
   "cell_type": "code",
   "execution_count": 6,
   "metadata": {},
   "outputs": [],
   "source": [
    "#Lets define the actual algorithm to find the optimal path:\n",
    "def reconstruct_path(came_from, current, draw):\n",
    "    while current in came_from:\n",
    "        current = came_from[current]\n",
    "        current.make_path()\n",
    "        draw()\n",
    "def algorithm(draw,grid,start,end):\n",
    "    count = 0\n",
    "    open_set = PriorityQueue()#Kind of object which treats specially lists (queues)\n",
    "    open_set.put((0,count,start))\n",
    "    came_from = {} #Keeps track of which node we come from before\n",
    "    g_score = {spot: float(\"inf\") for row in grid for spot in row} #Default inf values. Shortest distance to get from the start node to the currentnode\n",
    "    g_score[start] = 0\n",
    "    f_score = {spot: float(\"inf\") for row in grid for spot in row} #Approximate closest distance from the current node to the end node.\n",
    "    f_score[start] = h(start.get_pos(), end.get_pos())\n",
    "    \n",
    "    open_set_hash = {start}\n",
    "    \n",
    "    while not open_set.empty(): #Run until there all possible spots are exhausted\n",
    "        for event in pygame.event.get():\n",
    "            if event.type == pygame.QUIT:\n",
    "                pygame.quit()\n",
    "        current = open_set.get()[2] #Saves the current node we are looking at. If two nodes have the same score, we take the first one that we found\n",
    "        open_set_hash.remove(current)\n",
    "        if current == end: #If the node we found is actually the end node, then we have just found the best path\n",
    "            reconstruct_path(came_from, end, draw)\n",
    "            end.make_end()\n",
    "            return True\n",
    "        for neighbour in current.neighbours:\n",
    "            temp_g_score = g_score[current] + 1\n",
    "            if temp_g_score < g_score[neighbour]: #If we found a better node, then update the value\n",
    "                came_from[neighbour] = current\n",
    "                g_score[neighbour] = temp_g_score\n",
    "                f_score[neighbour] = temp_g_score  + h(neighbour.get_pos(), end.get_pos())\n",
    "                if neighbour not in open_set_hash:\n",
    "                    count += 1\n",
    "                    open_set.put((f_score[neighbour],count,neighbour))\n",
    "                    open_set_hash.add(neighbour)\n",
    "                    neighbour.make_open()\n",
    "        draw()\n",
    "        if current != start:\n",
    "            current.make_closed()\n",
    "    return  False"
   ]
  },
  {
   "cell_type": "code",
   "execution_count": 7,
   "metadata": {},
   "outputs": [
    {
     "name": "stdout",
     "output_type": "stream",
     "text": [
      "[[<__main__.Spot object at 0x000001577C96EF08>, <__main__.Spot object at 0x000001577C96E208>, <__main__.Spot object at 0x000001577C96E2C8>], [<__main__.Spot object at 0x000001577C96EA08>, <__main__.Spot object at 0x000001577C96E248>, <__main__.Spot object at 0x000001577C96EB48>], [<__main__.Spot object at 0x000001577C96EDC8>, <__main__.Spot object at 0x000001577C96E1C8>, <__main__.Spot object at 0x000001577C96E688>]]\n"
     ]
    }
   ],
   "source": [
    "#We have the visualization of the grid where we will be able to show the development of the algorithm in finding the optimal path, however, we need not only a visualization but an actual ordered object that can manipulate and store the status and coordinates of each node. So we will create a function that generates such grid in a list:\n",
    "def make_grid(rows,width): #recall that the grid is squared to the number of rows must be equal to the number of columns. The width parameter is the width of the ENTIRE grid. \n",
    "    grid = []\n",
    "    gap = width // rows #This will show us the size it must have each node in an integer value\n",
    "    for i in range(rows):\n",
    "        grid.append([])\n",
    "        for j in range(rows):\n",
    "            spot = Spot(i,j,gap,rows) # So here we are filling each space of the list with spot objects ! \n",
    "            grid[i].append(spot)\n",
    "    return grid\n",
    "print(make_grid(3,1))\n"
   ]
  },
  {
   "cell_type": "code",
   "execution_count": 8,
   "metadata": {},
   "outputs": [],
   "source": [
    "#We need to include in the visualization the grey lines in the grid to distinguish each node from each other. Otherwise, everything will be as a blank canvas.\n",
    "def draw_grid(win, rows, width):\n",
    "    gap = width // rows\n",
    "    for i in range(rows):\n",
    "        pygame.draw.line(win, GREY, (0,i * gap), (width, i * gap)) #Drawing the horizontal lines of each row\n",
    "    for j in range(rows):\n",
    "        pygame.draw.line(win, GREY, (j * gap, 0), (j * gap, width)) #Drawing the vertical lines of each column"
   ]
  },
  {
   "cell_type": "code",
   "execution_count": 9,
   "metadata": {},
   "outputs": [],
   "source": [
    "#Now, we build a function that takes the previous drawing functions into action:\n",
    "def draw(win, grid, rows, width):\n",
    "    win.fill(WHITE) #First, you put everything in white\n",
    "    for row in grid: #The grid must be previously built\n",
    "        for spot in row: #The spot class bust be already run\n",
    "            spot.draw(win)\n",
    "    draw_grid(win,rows,width) #Then you draw the grey lines in the grid\n",
    "    pygame.display.update() #Erase any changes from before from the canvas and update it with the recent changes we just did\n",
    "\n",
    "#Now, we need to generate a function that allows us to automatically change the color to black of a current node if it gets clicked \n",
    "#This will allow us to dinamically generate barriers. \n",
    "\n",
    "def get_clicked_pos(pos,rows, width):\n",
    "    gap = width // rows #Recall this is the size of the node\n",
    "    y, x = pos \n",
    "    row = y // gap #Shows us where you are clicking, taking into account the width of each node\n",
    "    col = x // gap #Shows us where you are clicking, taking into account the width of each node\n",
    "    return row, col \n"
   ]
  },
  {
   "cell_type": "code",
   "execution_count": 10,
   "metadata": {},
   "outputs": [
    {
     "ename": "KeyboardInterrupt",
     "evalue": "",
     "output_type": "error",
     "traceback": [
      "\u001b[1;31m---------------------------------------------------------------------------\u001b[0m",
      "\u001b[1;31mKeyboardInterrupt\u001b[0m                         Traceback (most recent call last)",
      "\u001b[1;32m<ipython-input-10-88fb3844a1b3>\u001b[0m in \u001b[0;36m<module>\u001b[1;34m\u001b[0m\n\u001b[0;32m     49\u001b[0m     \u001b[0mpygame\u001b[0m\u001b[1;33m.\u001b[0m\u001b[0mquit\u001b[0m\u001b[1;33m(\u001b[0m\u001b[1;33m)\u001b[0m \u001b[1;31m#Finish\u001b[0m\u001b[1;33m\u001b[0m\u001b[1;33m\u001b[0m\u001b[0m\n\u001b[0;32m     50\u001b[0m \u001b[1;33m\u001b[0m\u001b[0m\n\u001b[1;32m---> 51\u001b[1;33m \u001b[0mmain\u001b[0m\u001b[1;33m(\u001b[0m\u001b[0mWIN\u001b[0m\u001b[1;33m,\u001b[0m \u001b[0mWIDTH\u001b[0m\u001b[1;33m)\u001b[0m\u001b[1;33m\u001b[0m\u001b[1;33m\u001b[0m\u001b[0m\n\u001b[0m\u001b[0;32m     52\u001b[0m \u001b[1;33m\u001b[0m\u001b[0m\n",
      "\u001b[1;32m<ipython-input-10-88fb3844a1b3>\u001b[0m in \u001b[0;36mmain\u001b[1;34m(win, width)\u001b[0m\n\u001b[0;32m     10\u001b[0m     \u001b[0mstarted\u001b[0m \u001b[1;33m=\u001b[0m \u001b[1;32mFalse\u001b[0m\u001b[1;33m\u001b[0m\u001b[1;33m\u001b[0m\u001b[0m\n\u001b[0;32m     11\u001b[0m     \u001b[1;32mwhile\u001b[0m \u001b[0mrun\u001b[0m\u001b[1;33m:\u001b[0m\u001b[1;33m\u001b[0m\u001b[1;33m\u001b[0m\u001b[0m\n\u001b[1;32m---> 12\u001b[1;33m         \u001b[0mdraw\u001b[0m\u001b[1;33m(\u001b[0m\u001b[0mwin\u001b[0m\u001b[1;33m,\u001b[0m \u001b[0mgrid\u001b[0m\u001b[1;33m,\u001b[0m \u001b[0mROWS\u001b[0m\u001b[1;33m,\u001b[0m \u001b[0mwidth\u001b[0m\u001b[1;33m)\u001b[0m \u001b[1;31m#Draw the visualization of the grid\u001b[0m\u001b[1;33m\u001b[0m\u001b[1;33m\u001b[0m\u001b[0m\n\u001b[0m\u001b[0;32m     13\u001b[0m         \u001b[1;32mfor\u001b[0m \u001b[0mevent\u001b[0m \u001b[1;32min\u001b[0m \u001b[0mpygame\u001b[0m\u001b[1;33m.\u001b[0m\u001b[0mevent\u001b[0m\u001b[1;33m.\u001b[0m\u001b[0mget\u001b[0m\u001b[1;33m(\u001b[0m\u001b[1;33m)\u001b[0m\u001b[1;33m:\u001b[0m \u001b[1;31m#An event is anything that the user did through the computer once the program is initialized, like for example a click somewhere, pushing any key of the keyboard, etc\u001b[0m\u001b[1;33m\u001b[0m\u001b[1;33m\u001b[0m\u001b[0m\n\u001b[0;32m     14\u001b[0m             \u001b[1;32mif\u001b[0m \u001b[0mevent\u001b[0m\u001b[1;33m.\u001b[0m\u001b[0mtype\u001b[0m \u001b[1;33m==\u001b[0m \u001b[0mpygame\u001b[0m\u001b[1;33m.\u001b[0m\u001b[0mQUIT\u001b[0m\u001b[1;33m:\u001b[0m\u001b[1;33m\u001b[0m\u001b[1;33m\u001b[0m\u001b[0m\n",
      "\u001b[1;31mKeyboardInterrupt\u001b[0m: "
     ]
    }
   ],
   "source": [
    "#We now create the main function, which will help us run everything\n",
    "def main(win, width):\n",
    "    ROWS = 50 #Number of rows in the grid. You can change this at any time\n",
    "    grid = make_grid(ROWS, width) #Array of spots\n",
    "    \n",
    "    start = None\n",
    "    end = None\n",
    "    \n",
    "    run = True\n",
    "    started = False\n",
    "    while run:\n",
    "        draw(win, grid, ROWS, width) #Draw the visualization of the grid\n",
    "        for event in pygame.event.get(): #An event is anything that the user did through the computer once the program is initialized, like for example a click somewhere, pushing any key of the keyboard, etc\n",
    "            if event.type == pygame.QUIT:\n",
    "                run = False #Finish the while conditions \n",
    "\n",
    "            if pygame.mouse.get_pressed()[0]: #If the LEFT [0] click of the mouse got pressed\n",
    "                pos = pygame.mouse.get_pos() #Gets the coordinates of where the user clicked \n",
    "                row, col = get_clicked_pos(pos,ROWS,width) #Transforms such coordinates into row and column numbers of where the user clicked inside the grid\n",
    "                spot = grid[row][col]\n",
    "                if (not start) and spot != end: #If the algorithm has not yet started, then make this initial click the start node\n",
    "                    start = spot\n",
    "                    start.make_start()\n",
    "                elif (not end) & ( spot != start): #If there already is a deffinition of the start, then make this click the end node\n",
    "                    end = spot\n",
    "                    end.make_end()\n",
    "                elif  spot != end and spot != start:#If there already is a start and end node, then this should be a barrier\n",
    "                    spot.make_barrier() \n",
    "            elif pygame.mouse.get_pressed()[2]: #IF the RIGHT [2] click of the mouse got pressed\n",
    "                pos = pygame.mouse.get_pos() #Gets the coordinates of where the user clicked \n",
    "                row, col = get_clicked_pos(pos,ROWS,width) #Transforms such coordinates into row and column numbers of where the user clicked inside the grid\n",
    "                spot = grid[row][col]\n",
    "                spot.reset()#We will use this right click to reset the spot into white even for the start and end spots.\n",
    "                if spot == start:\n",
    "                    start = None\n",
    "                elif spot == end:\n",
    "                    end = None\n",
    "#Visualization is all done ! Now, lets start writing the algorithm to find the optimal path:\n",
    "            if event.type == pygame.KEYDOWN: #We will evaluate the signals from pressing the keyboard:\n",
    "                if event.key == pygame.K_SPACE and start and end: #If you press the space key and the program has not yet started, we will start the algorithm\n",
    "                    for row in grid:\n",
    "                        for spot in row: \n",
    "                            spot.update_neighbours(grid) #UPDATE ALL NEIGHBOURS OF EACH SPOT IN THE GRID, TAKING CARE OF THE BARRIERS AND LIMITS OF THE GRID.\n",
    "                    algorithm(lambda: draw(win, grid, ROWS, width), grid, start, end)\n",
    "                if event.key == pygame.K_c:\n",
    "                    start = None\n",
    "                    end = None\n",
    "                    grid = make_grid(ROWS, width)\n",
    "    pygame.quit() #Finish\n",
    "\n",
    "main(WIN, WIDTH)\n",
    "                "
   ]
  }
 ],
 "metadata": {
  "kernelspec": {
   "display_name": "Python 3",
   "language": "python",
   "name": "python3"
  },
  "language_info": {
   "codemirror_mode": {
    "name": "ipython",
    "version": 3
   },
   "file_extension": ".py",
   "mimetype": "text/x-python",
   "name": "python",
   "nbconvert_exporter": "python",
   "pygments_lexer": "ipython3",
   "version": "3.7.4"
  }
 },
 "nbformat": 4,
 "nbformat_minor": 2
}
